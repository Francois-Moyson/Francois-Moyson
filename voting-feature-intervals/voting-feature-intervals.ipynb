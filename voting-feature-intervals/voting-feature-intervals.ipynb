{
 "cells": [
  {
   "cell_type": "markdown",
   "metadata": {
    "tags": []
   },
   "source": [
    "# Python classifier based on VFI algorithm (Voting Feature Intervals)             \n",
    "\n",
    "For now this implementation only processes numerical data, not nominal.\n",
    "\n",
    "The classifier expects data to be in numpy array andmissing data be of type np.nan in order\n",
    "to avoid them correctly, so you should convert your dataset accordingly (i.e. replace ? with np.nan for example).\n",
    "\n",
    "Based on the VFI algorithm as described in : https://link.springer.com/content/pdf/10.1007/3-540-62858-4_74.pdf\n"
   ]
  },
  {
   "cell_type": "code",
   "execution_count": 14,
   "metadata": {
    "tags": []
   },
   "outputs": [],
   "source": [
    "from sklearn.base import BaseEstimator, ClassifierMixin, TransformerMixin\n",
    "from sklearn.utils.validation import check_X_y, check_array, check_is_fitted\n",
    "from sklearn.utils.multiclass import unique_labels\n",
    "import numpy as np\n",
    "from multiprocessing import Pool\n",
    "from multiprocessing import cpu_count\n",
    "\n",
    "# Based on a sklearn default classifier template\n",
    "class VFIClassifier(ClassifierMixin, BaseEstimator):\n",
    "\n",
    "    def __init__(self):\n",
    "        pass\n",
    "    \n",
    "    def fit(self, X, y):\n",
    "        # Check that X and y have correct shape\n",
    "        # Commented because we do accept NaN values... they are handled later on in the code below\n",
    "        # Another possibility would be to impute missing values (mean, median, ...)\n",
    "        \n",
    "        #X, y = check_X_y(X, y) \n",
    "        \n",
    "        # Store the classes seen during fit\n",
    "        self.classes_ = unique_labels(y)\n",
    "        self.X_ = X\n",
    "        self.y_ = y\n",
    "        \n",
    "        # To store the mins and maxs (end points) found for each class, and for each feature\n",
    "        self.mins_maxs_classes_ = [[[None,None] for _ in range(self.classes_.size)] for _ in range(self.X_.T.shape[0])]\n",
    "        \n",
    "        # To store the endpoints of each interval (the begining of an interval is the end of the previous one)\n",
    "        self.end_points_ = []\n",
    "        \n",
    "        self.bins_ = []\n",
    "        \n",
    "        # Iterating on X transposed, so on the columns (features) of the train data\n",
    "        for feature in range(len(self.X_.T)):\n",
    "            # Parsing all the rows of the training data (X)\n",
    "            for row in range(len(self.X_)):\n",
    "                # If the min for the currently parsed line's class has not been initialized\n",
    "                # we initialize it as the current min\n",
    "                if self.mins_maxs_classes_[feature][self.y_[row]][0] == None:\n",
    "                    self.mins_maxs_classes_[feature][self.y_[row]][0] = self.X_[row, feature]\n",
    "                # If the max for the currently parsed line's class has not been initialized\n",
    "                # we initialize it as the current max\n",
    "                if self.mins_maxs_classes_[feature][self.y_[row]][1] == None:\n",
    "                    self.mins_maxs_classes_[feature][self.y_[row]][1] = self.X_[row, feature]\n",
    "                # If a feature value is less than the min for this line's class\n",
    "                # we store is as the new min\n",
    "                if self.X_[row, feature] < self.mins_maxs_classes_[feature][self.y_[row]][0] :\n",
    "                    self.mins_maxs_classes_[feature][self.y_[row]][0] = self.X_[row, feature]\n",
    "                # If a feature value is more than the max for this line's class\n",
    "                # we store is as the new max\n",
    "                if self.X_[row, feature] > self.mins_maxs_classes_[feature][self.y_[row]][1] :\n",
    "                    self.mins_maxs_classes_[feature][self.y_[row]][1] = self.X_[row, feature]\n",
    "        \n",
    "        # Fill the endpoints list\n",
    "        for feature in self.mins_maxs_classes_:\n",
    "            # Flattens each line of mins maxs\n",
    "            feature_endpoints = [item for sublist in feature for item in sublist]\n",
    "            # Removes potential duplicates by creating a set then casting back to list\n",
    "            feature_endpoints = list(set(feature_endpoints))\n",
    "            # Sort endpoints by ascending order to create intervals\n",
    "            feature_endpoints.sort()\n",
    "            self.end_points_.append(feature_endpoints)\n",
    "\n",
    "        # Create the intervals: store the number of members of each class in each interval for each feature\n",
    "        for feature in range(len(self.X_.T)):\n",
    "            # For each feature there will be number_of_intervals * number_of_classes bins\n",
    "            # The number of intervals is number_of_endpoints - 1 + 2 (because of -inf, +inf\n",
    "            # which create 2 more intervals...). So it ends up adding 1 to the number of endpoints.\n",
    "            feature_bins = [[0 for _ in range(self.classes_.size)] for _ in range(len(self.end_points_[feature])+1)]\n",
    "            # Parsing all the rows for this feature\n",
    "            for row in range(len(self.X_)):\n",
    "                # Extract feature value at this row\n",
    "                feature_val = self.X_[row, feature]\n",
    "                # Skip to next iteration for NaN values\n",
    "                if feature_val == np.nan:\n",
    "                    break\n",
    "                # Find the bin and assign +1 to it (or 0.5 to both bins if feature_val == endpoint)\n",
    "                for position,endpoint in enumerate(self.end_points_[feature]):\n",
    "                    # If we are on the first interval we check for both [-inf:1st] and [1st:2nd] intervals\n",
    "                    if position == 0:\n",
    "                        # feature_val is in [-inf:1st] interval\n",
    "                        if feature_val < endpoint:\n",
    "                            feature_bins[position][self.y_[row]] += 1\n",
    "                        # feature_val is exactly on the endpoint\n",
    "                        elif feature_val == endpoint:\n",
    "                            feature_bins[position][self.y_[row]] += 0.5\n",
    "                            feature_bins[position+1][self.y_[row]] += 0.5\n",
    "                        # feature_val is in [1st:2nd] interval\n",
    "                        elif feature_val < self.end_points_[feature][position+1]:\n",
    "                            feature_bins[position+1][self.y_[row]] += 1\n",
    "                    # If we are on the last endpoint, we check for [last:inf] interval\n",
    "                    elif position == (len(self.end_points_[feature])-1):\n",
    "                        # feature_val is in [last:inf] interval\n",
    "                        if feature_val > endpoint:\n",
    "                            #print(f\"   intervalle {position+1} += 1\")\n",
    "                            feature_bins[position+1][self.y_[row]] += 1\n",
    "                        # feature_val is exactly on the endpoint\n",
    "                        elif feature_val == endpoint:\n",
    "                            feature_bins[position][self.y_[row]] += 0.5\n",
    "                            feature_bins[position+1][self.y_[row]] += 0.5\n",
    "                    \n",
    "                    # We are neither on the first nor the last endpoint\n",
    "                    else:\n",
    "                        # If feature val is in [endpoint:next_endpoint] interval, increment this interval's bin\n",
    "                        if (feature_val > endpoint) & (feature_val < self.end_points_[feature][position+1]):\n",
    "                            feature_bins[position+1][self.y_[row]] += 1\n",
    "                        # feature_val is exactly on the endpoint\n",
    "                        elif feature_val == endpoint:\n",
    "                            feature_bins[position][self.y_[row]] += 0.5\n",
    "                            feature_bins[position+1][self.y_[row]] += 0.5\n",
    "\n",
    "            self.bins_.append(feature_bins)\n",
    "            \n",
    "        # Return the classifier\n",
    "        return self\n",
    "    \n",
    "    def predict(self, X):\n",
    "        # Check is fit had been called\n",
    "        # Commented because we do accept NaN values... they are handled later on in the code below\n",
    "        \n",
    "        #check_is_fitted(self, ['X_', 'y_'])\n",
    "\n",
    "        # Input validation\n",
    "        # Commented because we do accept NaN values... they are handled later on in the code below.\n",
    "        \n",
    "        #X = check_array(X)\n",
    "        \n",
    "        # To store the global class votes (summing of all votes on all intervals for each feature)\n",
    "        # There will be as many class votes as lines to be classified (lines in X)\n",
    "        class_votes = [[0 for _ in range(self.classes_.size)] for _ in range(X.shape[0])]\n",
    "\n",
    "        found_classes = np.zeros(X.shape[0])\n",
    "\n",
    "        self.mins_maxs_classes_ = [[[None,None] for _ in range(self.classes_.size)] for _ in range(self.X_.T.shape[0])]\n",
    "\n",
    "        # Classify all instances passed in parameter X\n",
    "        for row in range(X.shape[0]):\n",
    "            # Parse all features\n",
    "            for feature in range(len(self.X_.T)):\n",
    "                feature_val = X[row, feature]\n",
    "                # Skip to next iteration for NaN values\n",
    "                if feature_val == np.nan:\n",
    "                    break\n",
    "                # Count the votes for each class\n",
    "                for class_ in range(self.classes_.size):\n",
    "                    # Compute the sum of all bins for this class on this feature\n",
    "                    class_bin_sum = sum(x[class_] for x in vfi_classifier.bins_[feature])\n",
    "                    # Avoid division by zero\n",
    "                    if class_bin_sum != 0:\n",
    "                        # Determine the interval in which this feature stands\n",
    "                        for position,endpoint in enumerate(self.end_points_[feature]):\n",
    "                            # If we are on the first interval we check for both [-inf:1st] and [1st:2nd] intervals\n",
    "                            if position == 0:\n",
    "                                # feature_val is in [-inf:1st] interval\n",
    "                                if feature_val < endpoint:\n",
    "                                    # Add this class's votes for this interval to the global class_votes\n",
    "                                    class_votes[row][class_] += self.bins_[feature][position][class_]/class_bin_sum\n",
    "                                # feature_val is exactly on the endpoint\n",
    "                                elif feature_val == endpoint:\n",
    "                                    # add the mean of both intervals class votes (sum/2)\n",
    "                                    class_votes[row][class_] += (\n",
    "                                    ((self.bins_[feature][position][class_]/class_bin_sum\n",
    "                                    + self.bins_[feature][position+1][class_])/2) / class_bin_sum)\n",
    "                                # feature_val is in [1st:2nd] interval\n",
    "                                elif feature_val < self.end_points_[feature][position+1]:\n",
    "                                    class_votes[row][class_] += self.bins_[feature][position+1][class_]/class_bin_sum\n",
    "                            # If we are on the last endpoint, we check for [last:inf] interval\n",
    "                            elif position == (len(self.end_points_[feature])-1):\n",
    "                                # feature_val is in [last:inf] interval\n",
    "                                if feature_val > endpoint:\n",
    "                                    class_votes[row][class_] += self.bins_[feature][position+1][class_]/class_bin_sum\n",
    "                                elif feature_val == endpoint:\n",
    "                                    class_votes[row][class_] += (\n",
    "                                    ((self.bins_[feature][position][class_]/class_bin_sum\n",
    "                                    + self.bins_[feature][position+1][class_])/2) / class_bin_sum)\n",
    "\n",
    "                            # We are neither on the first nor the last endpoint\n",
    "                            else:\n",
    "                                # If feature val is in [endpoint:next_endpoint] interval\n",
    "                                if (feature_val > endpoint) & (feature_val < self.end_points_[feature][position+1]):\n",
    "                                    class_votes[row][class_] += self.bins_[feature][position+1][class_]/class_bin_sum\n",
    "                                # feature_val is exactly on the endpoint\n",
    "                                elif feature_val == endpoint:\n",
    "                                    class_votes[row][class_] += (\n",
    "                                    ((self.bins_[feature][position][class_]/class_bin_sum\n",
    "                                    + self.bins_[feature][position+1][class_])/2) / class_bin_sum)\n",
    "                                \n",
    "            found_classes[row] = np.argmax(class_votes[row])\n",
    "\n",
    "        return found_classes\n",
    "\n",
    "    def chunk(self, data, parts):\n",
    "        divided = [None]*parts\n",
    "        n = len(data) // parts\n",
    "        for i in range(parts):\n",
    "            divided[i] = data[i*n:n*(i+1)]\n",
    "        if len(data) % 2 != 0:\n",
    "            divided[-1] += [data[-1]]\n",
    "        return divided\n",
    "    \n",
    "    # Parallelized version of the predict function (as many processes as cpu_count)\n",
    "    def predict_parallel(self, X):\n",
    "        workers = cpu_count()\n",
    "        data_chunks = self.chunk(X, X.shape[0])\n",
    "        classes = []\n",
    "        with Pool(workers) as p:\n",
    "            classes += zip(*p.map(self.predict, data_chunks))\n",
    "        return classes[0]\n"
   ]
  },
  {
   "cell_type": "code",
   "execution_count": 3,
   "metadata": {
    "tags": []
   },
   "outputs": [],
   "source": [
    "# Imports required for this notebook\n",
    "from sklearn.model_selection import train_test_split\n",
    "from sklearn.model_selection import cross_val_score\n",
    "from sklearn.model_selection import StratifiedKFold\n",
    "from sklearn.model_selection import KFold\n",
    "from sklearn.metrics import mean_absolute_error\n",
    "from sklearn.metrics import accuracy_score\n",
    "from sklearn.neighbors import KNeighborsClassifier\n",
    "from sklearn.utils import shuffle\n",
    "from sklearn.impute import SimpleImputer\n",
    "from sklearn.preprocessing import StandardScaler\n",
    "from sklearn import datasets\n",
    "from sklearn.preprocessing import LabelBinarizer\n",
    "from sklearn.metrics import RocCurveDisplay\n",
    "import matplotlib.pyplot as plt\n",
    "import pandas as pd\n",
    "from tqdm import tqdm"
   ]
  },
  {
   "cell_type": "code",
   "execution_count": 52,
   "metadata": {
    "tags": []
   },
   "outputs": [
    {
     "name": "stderr",
     "output_type": "stream",
     "text": [
      "100%|██████████████████████████████████████████████████████████████████████████████████████| 100/100 [00:49<00:00,  2.03it/s]"
     ]
    },
    {
     "name": "stdout",
     "output_type": "stream",
     "text": [
      "\n",
      "Maximum Accuracy that can be obtained from this model: 100.0 %\n",
      "\n",
      "Minimum Accuracy: 71.42857142857143 %\n",
      "\n",
      "Overall Accuracy: 93.11428571428571 %\n",
      "\n",
      "Standard Deviation is: 0.05343281538190916\n"
     ]
    },
    {
     "name": "stderr",
     "output_type": "stream",
     "text": [
      "\n"
     ]
    }
   ],
   "source": [
    "# Test on Iris dataset\n",
    "\n",
    "iris = datasets.load_iris()\n",
    "irisdata = iris.data\n",
    "irisclasses = iris.target\n",
    "\n",
    "# Create train and test datasets to evaluate generalization performance of the model\n",
    "# No need to stratify here because the dataset is balanced (50 samples for each of the 3 classes)\n",
    "# random_state fixed for reproductibility\n",
    "X_train, X_test, y_train, y_test = train_test_split(irisdata, irisclasses, test_size=0.3, shuffle=True, random_state=9)\n",
    "\n",
    "# Preprocessing : centering (removing the mean) and scaling data (divide by std)\n",
    "sc = StandardScaler()\n",
    "X_train_sc = sc.fit_transform(X_train)\n",
    "# Applying same scaling on the test set as on the train set\n",
    "X_test_sc = sc.transform(X_test)\n",
    "\n",
    "vfi_classifier = VFIClassifier()\n",
    "\n",
    "# Repeat cross validation a hundred times to reduce the variance\n",
    "accuracies_stratified = []\n",
    "for i in tqdm(range(100)):\n",
    "    skf = StratifiedKFold(n_splits=5, shuffle=True)\n",
    "    for train_index, test_index in skf.split(X_train_sc, y_train):\n",
    "        x_train_fold, x_test_fold = X_train_sc[train_index], X_train_sc[test_index]\n",
    "        y_train_fold, y_test_fold = y_train[train_index], y_train[test_index]\n",
    "        vfi_classifier.fit(x_train_fold, y_train_fold)\n",
    "        y_pred = vfi_classifier.predict_parallel(x_test_fold)\n",
    "        accuracies_stratified.append(accuracy_score(y_test_fold, y_pred))\n",
    "\n",
    "#print('List of possible accuracies:', accuracies_stratified)\n",
    "print('\\nMaximum Accuracy that can be obtained from this model:', max(accuracies_stratified)*100, '%')\n",
    "print('\\nMinimum Accuracy:', min(accuracies_stratified)*100, '%')\n",
    "print('\\nOverall Accuracy:', np.mean(accuracies_stratified)*100, '%')\n",
    "print('\\nStandard Deviation is:', np.std(accuracies_stratified))"
   ]
  },
  {
   "cell_type": "code",
   "execution_count": 53,
   "metadata": {
    "tags": []
   },
   "outputs": [
    {
     "name": "stdout",
     "output_type": "stream",
     "text": [
      "Test Accuracy: 1.0\n"
     ]
    }
   ],
   "source": [
    "# Final evaluation on the test set\n",
    "# We should keep in mind that a randomly chosen test set will produce high variance in the results\n",
    "# if train/test split + eval is repeated, as compared with cross-validation.\n",
    "vfi_classifier.fit(X_train_sc, y_train)\n",
    "y_pred = vfi_classifier.predict_parallel(X_test_sc)\n",
    "print(f\"Test Accuracy: {accuracy_score(y_test, y_pred)}\")"
   ]
  },
  {
   "cell_type": "code",
   "execution_count": 4,
   "metadata": {
    "tags": []
   },
   "outputs": [
    {
     "name": "stderr",
     "output_type": "stream",
     "text": [
      "100%|█████████████████████████████████████████████████████████████████████████████████████| 100/100 [00:00<00:00, 288.41it/s]"
     ]
    },
    {
     "name": "stdout",
     "output_type": "stream",
     "text": [
      "\n",
      "Maximum Accuracy that can be obtained from this model: 100.0 %\n",
      "\n",
      "Minimum Accuracy: 71.42857142857143 %\n",
      "\n",
      "Overall Accuracy: 92.19047619047619 %\n",
      "\n",
      "Standard Deviation is: 0.05186761449215277\n"
     ]
    },
    {
     "name": "stderr",
     "output_type": "stream",
     "text": [
      "\n"
     ]
    }
   ],
   "source": [
    "### Comparison with classic k-NN algorithm\n",
    "\n",
    "knn = KNeighborsClassifier(n_neighbors=15)\n",
    "\n",
    "# Repeat the CV a hundred times to reduce variance\n",
    "accuracies_stratified = []\n",
    "for i in tqdm(range(100)):\n",
    "    skf = StratifiedKFold(n_splits=5, shuffle=True)\n",
    "    for train_index, test_index in skf.split(X_train_sc, y_train):\n",
    "        x_train_fold, x_test_fold = X_train_sc[train_index], X_train_sc[test_index]\n",
    "        y_train_fold, y_test_fold = y_train[train_index], y_train[test_index]\n",
    "        knn.fit(x_train_fold, y_train_fold)\n",
    "        y_pred = knn.predict(x_test_fold)\n",
    "        accuracies_stratified.append(accuracy_score(y_test_fold, y_pred))\n",
    "\n",
    "#print('List of possible accuracies:', accuracies_stratified)\n",
    "print('\\nMaximum Accuracy that can be obtained from this model:', max(accuracies_stratified)*100, '%')\n",
    "print('\\nMinimum Accuracy:', min(accuracies_stratified)*100, '%')\n",
    "print('\\nOverall Accuracy:', np.mean(accuracies_stratified)*100, '%')\n",
    "print('\\nStandard Deviation is:', np.std(accuracies_stratified))"
   ]
  },
  {
   "cell_type": "code",
   "execution_count": 6,
   "metadata": {
    "tags": []
   },
   "outputs": [
    {
     "name": "stdout",
     "output_type": "stream",
     "text": [
      "Test Accuracy: 1.0\n"
     ]
    }
   ],
   "source": [
    "knn.fit(X_train_sc, y_train)\n",
    "y_pred = knn.predict(X_test_sc)\n",
    "print(f\"Test Accuracy: {accuracy_score(y_test, y_pred)}\")"
   ]
  },
  {
   "cell_type": "markdown",
   "metadata": {
    "tags": []
   },
   "source": [
    "#### Both algorithms have roughly the same perf on this dataset if we look at the cross-validation results.\n",
    "#### They both have 100% accuracy on the test set."
   ]
  },
  {
   "cell_type": "code",
   "execution_count": 14,
   "metadata": {
    "tags": []
   },
   "outputs": [
    {
     "name": "stdout",
     "output_type": "stream",
     "text": [
      "Requirement already satisfied: ucimlrepo in /home/micmac/anaconda3/lib/python3.11/site-packages (0.0.2)\n"
     ]
    }
   ],
   "source": [
    "!pip install ucimlrepo"
   ]
  },
  {
   "cell_type": "code",
   "execution_count": 119,
   "metadata": {
    "tags": []
   },
   "outputs": [
    {
     "data": {
      "image/png": "[encoded data removed]",
      "text/plain": [
       "<Figure size 200x200 with 1 Axes>"
      ]
     },
     "metadata": {},
     "output_type": "display_data"
    }
   ],
   "source": [
    "### Test k-NNFP on the Wine dataset (UCI) : predict the origin (cultivar) of wines basing on their\n",
    "### chemical composition\n",
    "\n",
    "from ucimlrepo import fetch_ucirepo\n",
    "import matplotlib.pyplot as plt\n",
    "\n",
    "# Fetch dataset \n",
    "wine = fetch_ucirepo(id=109) \n",
    "  \n",
    "# Data (as pandas dataframes) \n",
    "X = wine.data.features \n",
    "y = wine.data.targets \n",
    "\n",
    "# Converts the dataframe into a numpy array, and stores the classes in a separate np array\n",
    "X = X.to_numpy()\n",
    "X = np.array(X).astype(float)\n",
    "y = y.to_numpy()\n",
    "y = np.array(y).astype(int)\n",
    "y = y.ravel() #Converts the classes in scikit-learn format (1d list)\n",
    "\n",
    "# Changes the range of classes to be 0 to n (instead of 1 to n)\n",
    "y = y - np.array([1]*y.shape[0])\n",
    "\n",
    "# Display the number of members of each class in a bar graph\n",
    "unique, counts = np.unique(y, return_counts=True)\n",
    "index = unique #range(3,9) # il y a 10 notes possibles\n",
    "plt.figure(figsize=(2,2))\n",
    "plt.bar(index, counts, width=0.3)\n",
    "plt.xlabel('cultivars', fontsize=10)\n",
    "plt.ylabel('wines', fontsize=10)\n",
    "plt.title('number of wines per cultivar')\n",
    "#plt.rcParams[\"figure.figsize\"] = (4, 5)\n",
    "plt.show()"
   ]
  },
  {
   "cell_type": "code",
   "execution_count": 120,
   "metadata": {
    "tags": []
   },
   "outputs": [
    {
     "name": "stderr",
     "output_type": "stream",
     "text": [
      "100%|██████████████████████████████████████████████████████████████████████████████████████| 100/100 [00:42<00:00,  2.33it/s]"
     ]
    },
    {
     "name": "stdout",
     "output_type": "stream",
     "text": [
      "\n",
      "Maximum Accuracy that can be obtained from this model: 96.55172413793103 %\n",
      "\n",
      "Minimum Accuracy: 64.28571428571429 %\n",
      "\n",
      "Overall Accuracy: 83.54704433497537 %\n",
      "\n",
      "Standard Deviation is: 0.05428043360501346\n"
     ]
    },
    {
     "name": "stderr",
     "output_type": "stream",
     "text": [
      "\n"
     ]
    }
   ],
   "source": [
    "# Create train and test datasets to evaluate generalization performance of the model\n",
    "# Doing stratify here because of imbalanced dataset\n",
    "X_train, X_test, y_train, y_test = train_test_split(X, y, test_size=0.2, stratify=y, shuffle=True)\n",
    "\n",
    "#Preprocessing : centering (removing the mean) and scaling data (divide by std)\n",
    "sc = StandardScaler()\n",
    "X_train_sc = sc.fit_transform(X_train)\n",
    "# Applying same scaling on the test set as on the train set\n",
    "X_test_sc = sc.transform(X_test)\n",
    "\n",
    "vfi_classifier = VFIClassifier()\n",
    "\n",
    "# Appart from evaluating on a separate test set, we also do cross-validation for estimation of model perf.\n",
    "# Since the dataset is imbalanced, we use StratifiedKFold cross-validation.\n",
    "# This cross-validation is performed on the X_train set and not on the whole dataset, in order to be\n",
    "# consistent with the final evaluation on test set, which uses X_train for training too.\n",
    "\n",
    "# Repeat the CV a hundred times to reduce variance\n",
    "accuracies_stratified = []\n",
    "for i in tqdm(range(100)):\n",
    "    skf = StratifiedKFold(n_splits=5, shuffle=True)\n",
    "    for train_index, test_index in skf.split(X_train_sc, y_train):\n",
    "        x_train_fold, x_test_fold = X_train_sc[train_index], X_train_sc[test_index]\n",
    "        y_train_fold, y_test_fold = y_train[train_index], y_train[test_index]\n",
    "        vfi_classifier.fit(x_train_fold, y_train_fold)\n",
    "        y_pred = vfi_classifier.predict_parallel(x_test_fold)\n",
    "        accuracies_stratified.append(accuracy_score(y_test_fold, y_pred))\n",
    "\n",
    "#print('List of possible accuracies:', accuracies_stratified)\n",
    "print('\\nMaximum Accuracy that can be obtained from this model:', max(accuracies_stratified)*100, '%')\n",
    "print('\\nMinimum Accuracy:', min(accuracies_stratified)*100, '%')\n",
    "print('\\nOverall Accuracy:', np.mean(accuracies_stratified)*100, '%')\n",
    "print('\\nStandard Deviation is:', np.std(accuracies_stratified))"
   ]
  },
  {
   "cell_type": "code",
   "execution_count": 121,
   "metadata": {
    "tags": []
   },
   "outputs": [
    {
     "data": {
      "image/png": "[encoded data removed]",
      "text/plain": [
       "<Figure size 1400x400 with 3 Axes>"
      ]
     },
     "metadata": {},
     "output_type": "display_data"
    }
   ],
   "source": [
    "# One-vs-Rest multiclass ROC : https://scikit-learn.org/stable/auto_examples/model_selection/plot_roc.html\n",
    "\n",
    "#In this section we use a LabelBinarizer to binarize the target by one-hot-encoding in a OvR fashion.\n",
    "#This means that the target of shape (n_samples,) is mapped to a target of shape (n_samples, n_classes).\n",
    "label_binarizer = LabelBinarizer().fit(y_train)\n",
    "y_onehot_test = label_binarizer.transform(y_test)\n",
    "# y_onehot_test.shape  # (n_samples, n_classes). here : (36, 3)\n",
    "\n",
    "\n",
    "# Predicts the classes on the test set, and one-hot-encode them\n",
    "vfi_classifier.fit(X_train_sc, y_train)\n",
    "y_pred = vfi_classifier.predict(X_test_sc)\n",
    "y_pred = label_binarizer.transform(y_pred)\n",
    "\n",
    "# prepare a figure with \"number of classes\" suplots on one line\n",
    "fig, (ax1, ax2, ax3) = plt.subplots(1, label_binarizer.classes_.shape[0], figsize=(14, 4))\n",
    "axes = [ax1, ax2, ax3]\n",
    "\n",
    "for class_of_interest in label_binarizer.classes_:\n",
    "    # Preparing ROC OvR : 1 class vs other classes\n",
    "    class_id = np.flatnonzero(label_binarizer.classes_ == class_of_interest)[0]\n",
    "\n",
    "    # Draw ROC curve\n",
    "    RocCurveDisplay.from_predictions(\n",
    "        y_onehot_test[:, class_id],\n",
    "        y_pred[:, class_id],\n",
    "        name=f\"{class_of_interest} vs the rest\",\n",
    "        color=\"darkorange\",\n",
    "        plot_chance_level=True,\n",
    "        ax=axes[class_of_interest]\n",
    "    )\n",
    "    axes[class_of_interest].set_xlabel(\"False Positive Rate\")\n",
    "    axes[class_of_interest].set_ylabel(\"True Positive Rate\")\n",
    "    all_classes = label_binarizer.classes_\n",
    "    # Create the np array containing all classes except the class of interest\n",
    "    rest_classes = np.delete(all_classes, np.where(all_classes == class_of_interest))\n",
    "    axes[class_of_interest].set_title(f\"One-vs-Rest ROC curves:\\n{class_of_interest} vs ({rest_classes})\")\n",
    "\n",
    "plt.show()\n"
   ]
  },
  {
   "cell_type": "code",
   "execution_count": 122,
   "metadata": {
    "tags": []
   },
   "outputs": [
    {
     "name": "stdout",
     "output_type": "stream",
     "text": [
      "Test Accuracy: 0.8055555555555556\n"
     ]
    }
   ],
   "source": [
    "# Final evaluation on the test set\n",
    "# We should keep in mind that a randomly chosen test set will produce high variance in the results\n",
    "# if train/test split + eval is repeated, as compared with cross-validation.\n",
    "vfi_classifier.fit(X_train_sc, y_train)\n",
    "y_pred = vfi_classifier.predict(X_test_sc)\n",
    "print(f\"Test Accuracy: {accuracy_score(y_test, y_pred)}\")"
   ]
  },
  {
   "cell_type": "code",
   "execution_count": 21,
   "metadata": {
    "tags": []
   },
   "outputs": [
    {
     "name": "stderr",
     "output_type": "stream",
     "text": [
      "100%|█████████████████████████████████████████████████████████████████████████████████████| 100/100 [00:00<00:00, 265.72it/s]"
     ]
    },
    {
     "name": "stdout",
     "output_type": "stream",
     "text": [
      "\n",
      "Maximum Accuracy that can be obtained from this model: 100.0 %\n",
      "\n",
      "Minimum Accuracy: 82.14285714285714 %\n",
      "\n",
      "Overall Accuracy: 94.53349753694582 %\n",
      "\n",
      "Standard Deviation is: 0.03961678250674524\n"
     ]
    },
    {
     "name": "stderr",
     "output_type": "stream",
     "text": [
      "\n"
     ]
    }
   ],
   "source": [
    "### Comparison with classic k-NN algorithm\n",
    "knn = KNeighborsClassifier(n_neighbors=5)\n",
    "accuracies_stratified = []\n",
    "\n",
    "# Doing 100 CV to reduce variance of the results (Shuffle=True)\n",
    "for i in tqdm(range(100)):\n",
    "    skf = StratifiedKFold(n_splits=5, shuffle=True)\n",
    "    for train_index, test_index in skf.split(X_train_sc, y_train):\n",
    "        x_train_fold, x_test_fold = X_train_sc[train_index], X_train_sc[test_index]\n",
    "        y_train_fold, y_test_fold = y_train[train_index], y_train[test_index]\n",
    "        knn.fit(x_train_fold, y_train_fold)\n",
    "        y_pred = knn.predict(x_test_fold)\n",
    "        accuracies_stratified.append(accuracy_score(y_test_fold, y_pred))\n",
    "\n",
    "#print('List of possible accuracies:', accuracies_stratified)\n",
    "print('\\nMaximum Accuracy that can be obtained from this model:', max(accuracies_stratified)*100, '%')\n",
    "print('\\nMinimum Accuracy:', min(accuracies_stratified)*100, '%')\n",
    "print('\\nOverall Accuracy:', np.mean(accuracies_stratified)*100, '%')\n",
    "print('\\nStandard Deviation is:', np.std(accuracies_stratified))"
   ]
  },
  {
   "cell_type": "code",
   "execution_count": 22,
   "metadata": {
    "tags": []
   },
   "outputs": [
    {
     "name": "stdout",
     "output_type": "stream",
     "text": [
      "Test Accuracy: 1.0\n"
     ]
    }
   ],
   "source": [
    "# Final evaluation on the test set\n",
    "knn.fit(X_train_sc, y_train)\n",
    "y_pred = knn.predict(X_test_sc)\n",
    "print(f\"Test Accuracy: {accuracy_score(y_test, y_pred)}\")"
   ]
  },
  {
   "cell_type": "markdown",
   "metadata": {
    "tags": []
   },
   "source": [
    "#### On this dataset, VFI doesn't perform as good as KNN\n",
    "#### It has only 80% accuracy on test set, as compared with 100% with KNN"
   ]
  },
  {
   "cell_type": "code",
   "execution_count": 32,
   "metadata": {
    "tags": []
   },
   "outputs": [],
   "source": [
    "### Test on the Dermatology dataset (UCI) : skin disease diagnostic (classification task)\n",
    "\n",
    "col_list = [*range(0,34,1)]\n",
    "data_frame = pd.read_csv(\"./datasets/DermatologyDataset/dermatology.data\", sep=\",\", header=None, usecols=col_list, encoding ='latin1')\n",
    "\n",
    "col_list = [34]\n",
    "classes = pd.read_csv(\"./datasets/DermatologyDataset/dermatology.data\", sep=\",\", header=None, usecols=col_list, encoding ='latin1')\n",
    "\n",
    "# Replace missing values with np.nan (which our classifier handles)\n",
    "data_frame.replace('?',np.nan, inplace=True)\n",
    "\n",
    "# Converts the dataframe into a numpy array, and stores the classes in a separate np array\n",
    "dermato_data = data_frame.to_numpy()\n",
    "dermato_data = np.array(dermato_data).astype(float)\n",
    "dermato_classes = classes.to_numpy()\n",
    "dermato_classes = np.array(dermato_classes).astype(int)\n",
    "dermato_classes = dermato_classes.ravel() #met les classes sous la forme demandée par scikit-learn (liste 1d)\n",
    "\n",
    "# Changes the range of classes to be 0 to n (instead of 1 to n)\n",
    "dermato_classes = dermato_classes - np.array([1]*dermato_classes.shape[0])"
   ]
  },
  {
   "cell_type": "code",
   "execution_count": 33,
   "metadata": {
    "tags": []
   },
   "outputs": [
    {
     "data": {
      "image/png": "[encoded data removed]",
      "text/plain": [
       "<Figure size 400x200 with 1 Axes>"
      ]
     },
     "metadata": {},
     "output_type": "display_data"
    }
   ],
   "source": [
    "# Display the number of members of each class in a bar graph\n",
    "unique, counts = np.unique(dermato_classes, return_counts=True)\n",
    "index = unique #range(3,9) # il y a 10 notes possibles\n",
    "plt.figure(figsize=(4,2))\n",
    "plt.bar(index, counts, width=0.3)\n",
    "plt.xlabel('classes', fontsize=10)\n",
    "plt.ylabel('items', fontsize=10)\n",
    "plt.title('number items per class')\n",
    "#plt.rcParams[\"figure.figsize\"] = (4, 5)\n",
    "plt.show()"
   ]
  },
  {
   "cell_type": "code",
   "execution_count": 36,
   "metadata": {
    "tags": []
   },
   "outputs": [
    {
     "name": "stderr",
     "output_type": "stream",
     "text": [
      "/home/micmac/anaconda3/envs/vfi/lib/python3.11/site-packages/sklearn/impute/_iterative.py:785: ConvergenceWarning: [IterativeImputer] Early stopping criterion not reached.\n",
      "  warnings.warn(\n",
      "/home/micmac/anaconda3/envs/vfi/lib/python3.11/site-packages/sklearn/impute/_iterative.py:785: ConvergenceWarning: [IterativeImputer] Early stopping criterion not reached.\n",
      "  warnings.warn(\n",
      "100%|██████████████████████████████████████████████████████████████████████████████████████| 100/100 [01:16<00:00,  1.31it/s]"
     ]
    },
    {
     "name": "stdout",
     "output_type": "stream",
     "text": [
      "\n",
      "Maximum Accuracy that can be obtained from this model: 96.55172413793103 %\n",
      "\n",
      "Minimum Accuracy: 52.54237288135594 %\n",
      "\n",
      "Overall Accuracy: 79.00637054354179 %\n",
      "\n",
      "Standard Deviation is: 0.08435452749554458\n"
     ]
    },
    {
     "name": "stderr",
     "output_type": "stream",
     "text": [
      "\n"
     ]
    }
   ],
   "source": [
    "# Create train and test datasets to evaluate generalization performance of the model\n",
    "# Doing stratify here because of imbalanced dataset\n",
    "# random_state fixed for reproductibility\n",
    "\n",
    "# Random shuffling to avoid a (possible) pre-existing ordering in the data\n",
    "dermato_data, dermato_classes = shuffle(dermato_data, dermato_classes)\n",
    "\n",
    "X_train, X_test, y_train, y_test = train_test_split(dermato_data, dermato_classes, stratify=dermato_classes, test_size=0.2)\n",
    "\n",
    "#Preprocessing : centering (removing the mean) and scaling data (divide by std)\n",
    "sc = StandardScaler()\n",
    "X_train_sc = sc.fit_transform(X_train)\n",
    "# Applying same scaling on the test set as on the train set\n",
    "X_test_sc = sc.transform(X_test)\n",
    "\n",
    "# Doing imputation, because we also need to do it for k-NN algorithm comparison (doesn't accept nans)\n",
    "# So we want the datasets to be equal for comparing both algorithms.\n",
    "# Experimental mode necessary for iterative imputer\n",
    "from sklearn.experimental import enable_iterative_imputer\n",
    "from sklearn.impute import IterativeImputer\n",
    "from sklearn.ensemble import RandomForestRegressor\n",
    "imp = IterativeImputer(missing_values=np.nan, estimator=RandomForestRegressor())\n",
    "imp.fit(X_train_sc)\n",
    "X_train_imputed = imp.transform(X_train_sc)\n",
    "imp.fit(X_test_sc)\n",
    "X_test_imputed = imp.transform(X_test_sc)\n",
    "\n",
    "# Appart from evaluating on a separate test set, we also do cross-validation for estimation of model perf.\n",
    "# Since the dataset is imbalanced, we use StratifiedKFold cross-validation.\n",
    "# This cross-validation is performed on the X_train set and not on the whole dataset, in order to be\n",
    "# consistent with the final evaluation on test set, which uses X_train for training too.\n",
    "vfi_classifier = VFIClassifier()\n",
    "accuracies_stratified = []\n",
    "\n",
    "for i in tqdm(range(100)):\n",
    "    skf = StratifiedKFold(n_splits=5, shuffle=True)\n",
    "    for train_index, test_index in skf.split(X_train_imputed, y_train):\n",
    "        x_train_fold, x_test_fold = X_train_imputed[train_index], X_train_imputed[test_index]\n",
    "        y_train_fold, y_test_fold = y_train[train_index], y_train[test_index]\n",
    "        vfi_classifier.fit(x_train_fold, y_train_fold)\n",
    "        y_pred = vfi_classifier.predict_parallel(x_test_fold)\n",
    "        accuracies_stratified.append(accuracy_score(y_test_fold, y_pred))\n",
    "\n",
    "#print('List of possible accuracies:', accuracies_stratified)\n",
    "print('\\nMaximum Accuracy that can be obtained from this model:', max(accuracies_stratified)*100, '%')\n",
    "print('\\nMinimum Accuracy:', min(accuracies_stratified)*100, '%')\n",
    "print('\\nOverall Accuracy:', np.mean(accuracies_stratified)*100, '%')\n",
    "print('\\nStandard Deviation is:', np.std(accuracies_stratified))"
   ]
  },
  {
   "cell_type": "code",
   "execution_count": 37,
   "metadata": {
    "tags": []
   },
   "outputs": [
    {
     "name": "stdout",
     "output_type": "stream",
     "text": [
      "test accuracy: 0.8783783783783784\n"
     ]
    }
   ],
   "source": [
    "# Final evaluation on the test set\n",
    "vfi_classifier.fit(X_train_imputed, y_train)\n",
    "y_pred = vfi_classifier.predict_parallel(X_test_imputed)\n",
    "print(f\"test accuracy: {accuracy_score(y_test, y_pred)}\")"
   ]
  },
  {
   "cell_type": "code",
   "execution_count": 28,
   "metadata": {
    "tags": []
   },
   "outputs": [
    {
     "name": "stderr",
     "output_type": "stream",
     "text": [
      "100%|█████████████████████████████████████████████████████████████████████████████████████| 100/100 [00:00<00:00, 179.05it/s]"
     ]
    },
    {
     "name": "stdout",
     "output_type": "stream",
     "text": [
      "\n",
      "Maximum Accuracy that can be obtained from this model: 100.0 %\n",
      "\n",
      "Minimum Accuracy: 89.65517241379311 %\n",
      "\n",
      "Overall Accuracy: 96.74751607247224 %\n",
      "\n",
      "Standard Deviation is: 0.020722488122094616\n"
     ]
    },
    {
     "name": "stderr",
     "output_type": "stream",
     "text": [
      "\n"
     ]
    }
   ],
   "source": [
    "### Comparing with classic k-NN algorithm\n",
    "knn = KNeighborsClassifier(n_neighbors=5)\n",
    "accuracies_stratified = []\n",
    "\n",
    "# Doing 100 CV to reduce variance of the results (Shuffle=True)\n",
    "for i in tqdm(range(100)):\n",
    "    skf = StratifiedKFold(n_splits=5, shuffle=True)\n",
    "    for train_index, test_index in skf.split(X_train_imputed, y_train):\n",
    "        x_train_fold, x_test_fold = X_train_imputed[train_index], X_train_imputed[test_index]\n",
    "        y_train_fold, y_test_fold = y_train[train_index], y_train[test_index]\n",
    "        knn.fit(x_train_fold, y_train_fold)\n",
    "        y_pred = knn.predict(x_test_fold)\n",
    "        accuracies_stratified.append(accuracy_score(y_test_fold, y_pred))\n",
    "\n",
    "#print('List of possible accuracies:', accuracies_stratified)\n",
    "print('\\nMaximum Accuracy that can be obtained from this model:', max(accuracies_stratified)*100, '%')\n",
    "print('\\nMinimum Accuracy:', min(accuracies_stratified)*100, '%')\n",
    "print('\\nOverall Accuracy:', np.mean(accuracies_stratified)*100, '%')\n",
    "print('\\nStandard Deviation is:', np.std(accuracies_stratified))"
   ]
  },
  {
   "cell_type": "code",
   "execution_count": 30,
   "metadata": {
    "tags": []
   },
   "outputs": [
    {
     "name": "stdout",
     "output_type": "stream",
     "text": [
      "test accuracy: 0.9324324324324325\n"
     ]
    }
   ],
   "source": [
    "# Final evaluation on the test set\n",
    "knn.fit(X_train_imputed, y_train)\n",
    "y_pred = knn.predict(X_test_imputed)\n",
    "print(f\"test accuracy: {accuracy_score(y_test, y_pred)}\")"
   ]
  },
  {
   "cell_type": "markdown",
   "metadata": {
    "tags": []
   },
   "source": [
    "### VFI is not bad with 79% accuracy overall and 87% on test set\n",
    "### But still inferior to KNN..."
   ]
  },
  {
   "cell_type": "code",
   "execution_count": 38,
   "metadata": {
    "tags": []
   },
   "outputs": [
    {
     "name": "stderr",
     "output_type": "stream",
     "text": [
      "/tmp/ipykernel_2279393/4179403743.py:2: DeprecationWarning: Importing display from IPython.core.display is deprecated since IPython 7.14, please import from IPython display\n",
      "  from IPython.core.display import display, HTML\n"
     ]
    },
    {
     "data": {
      "text/html": [
       "<style>.jp-Cell { width: 80% !important; }</style>"
      ],
      "text/plain": [
       "<IPython.core.display.HTML object>"
      ]
     },
     "metadata": {},
     "output_type": "display_data"
    }
   ],
   "source": [
    "# Changes the width of Jupyter-Lab notebook\n",
    "from IPython.core.display import display, HTML\n",
    "display(HTML(\"<style>.jp-Cell { width: 80% !important; }</style>\"))"
   ]
  },
  {
   "cell_type": "code",
   "execution_count": 25,
   "metadata": {},
   "outputs": [
    {
     "name": "stderr",
     "output_type": "stream",
     "text": [
      "/tmp/ipykernel_6592/579905470.py:2: DeprecationWarning: Importing display from IPython.core.display is deprecated since IPython 7.14, please import from IPython display\n",
      "  from IPython.core.display import display, HTML\n"
     ]
    },
    {
     "data": {
      "text/html": [
       "<style>.jp-Cell { width: 100% !important; }</style>"
      ],
      "text/plain": [
       "<IPython.core.display.HTML object>"
      ]
     },
     "metadata": {},
     "output_type": "display_data"
    }
   ],
   "source": [
    "# Changes the width of Jupyter-Lab notebook\n",
    "from IPython.core.display import display, HTML\n",
    "display(HTML(\"<style>.jp-Cell { width: 100% !important; }</style>\"))"
   ]
  },
  {
   "cell_type": "code",
   "execution_count": null,
   "metadata": {},
   "outputs": [],
   "source": []
  }
 ],
 "metadata": {
  "kernelspec": {
   "display_name": "Python 3 (ipykernel)",
   "language": "python",
   "name": "python3"
  },
  "language_info": {
   "codemirror_mode": {
    "name": "ipython",
    "version": 3
   },
   "file_extension": ".py",
   "mimetype": "text/x-python",
   "name": "python",
   "nbconvert_exporter": "python",
   "pygments_lexer": "ipython3",
   "version": "3.11.5"
  }
 },
 "nbformat": 4,
 "nbformat_minor": 4
}

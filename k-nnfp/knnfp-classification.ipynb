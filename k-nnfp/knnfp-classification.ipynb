{
 "cells": [
  {
   "cell_type": "markdown",
   "metadata": {
    "tags": []
   },
   "source": [
    "# Python classifier based on k-NNFP algorithm (k nearest neighbours on features projection)             \n",
    "\n",
    "\n",
    "The fit() function just stores training data as is\n",
    " \n",
    "The predict() function uses the k-nnfp algorithm to return the classes of the data passed as a parameter\n",
    "by doing a majority voting for the classes found for each neighbour, according to each individual feature.\n",
    "\n",
    "In other words, it's like doing k-NN on each individual feature with a majority voting at the end\n",
    "to determine the class.\n",
    "\n",
    "The classifier expects classes to be numbered from 0 to n.\n",
    " \n",
    "Furthermore, it expects that missing data be of type np.nan in order to avoid them correctly,\n",
    "so you should convert your dataset accordingly (i.e. replace ? with np.nan for example)\n",
    "\n",
    "----------------------------------\n",
    "\n",
    "Extract from http://nimbusvault.net/publications/koala/assr/papers/k17is-223.pdf :\n",
    "\n",
    "K-Nearest Neighbors on Feature Projections algorithm (k-NNFP):\n",
    "The K-Nearest Neighbors on Feature Projections (k-NNFP) algorithm is an alternative approach of the\n",
    "state-of-the-art k-NN classification process. This approach is based on extracted votes applied on a set of\n",
    "classes, which derive after k-NN performance in each feature separately of the unclassified example.\n",
    "The most important characteristic of this classification algorithm is that the training set is stored as an\n",
    "equivalent projection set on feature space. In the dataset that is delivered below in Table 1 three training\n",
    "examples with two features and a class feature per example is presented.\n",
    "\n",
    "\n",
    "Training Example|f0|f1|Class\n",
    ":---:|:---:|:---:|:---:\n",
    "Example 1|1|6|B\n",
    "Example 2|4|3|A\n",
    "Example 3|10|5|A\n",
    "Table 1. Training Examples\n",
    "\n",
    "\n",
    "The k-NNFP algorithm classifies a given unclassified examples as follows. Firstly,\n",
    "the k-closest training examples are calculated for each feature, and their classes\n",
    "are stored, separately. In the next step, the sum of each class is calculated in\n",
    "\n",
    "feature storage space. Finally, the class with the max sum is performed to be the\n",
    "class of the unclassified example.\n",
    "In example, given an unclassified example (<3, 2>), where f0 = 3, f1 = 2 and the\n",
    "label class is unknown, the k-NNFP approach classifies the example to the ‘A’\n",
    "class for k = 1 and k = 2, as it is presented in Table 2:\n",
    "\n",
    "k|f0|f1|Features’ Bag|Class\n",
    ":---:|:---:|:---:|:---:|:---:\n",
    "[A]|[A]|[A, A]|A\n",
    "[A, B]|[A, A]|[A, B, A, A]|A\n",
    "Table 2. K-NNFP classification for (<3, 2>)\n",
    "\n",
    "\n",
    "Considering their differences and the similarities, the k-NN approach focuses on\n",
    "the distances between training dataset and unclassified examples that provide the\n",
    "outcome classification on feature space, in opposite with the k-NNFP approach,\n",
    "which is mainly focused on each feature contribution to the classification process\n",
    "via the majority of feature votes.\n"
   ]
  },
  {
   "cell_type": "code",
   "execution_count": 2,
   "metadata": {
    "tags": []
   },
   "outputs": [],
   "source": [
    "from sklearn.base import BaseEstimator, ClassifierMixin, TransformerMixin\n",
    "from sklearn.utils.validation import check_X_y, check_array, check_is_fitted\n",
    "from sklearn.utils.multiclass import unique_labels\n",
    "import numpy as np\n",
    "\n",
    "# Based on a sklearn default classifier template\n",
    "class kNNFPClassifier(ClassifierMixin, BaseEstimator):\n",
    "\n",
    "    def __init__(self, n_neighbours=1):\n",
    "        self.n_neighbours = n_neighbours\n",
    "\n",
    "    def fit(self, X, y):\n",
    "        # Check that X and y have correct shape\n",
    "        # Commented because we do accept NaN values... they are handled later on in the code below\n",
    "        # Another possibility would be to impute missing values (mean, median, ...)\n",
    "        \n",
    "        #X, y = check_X_y(X, y) \n",
    "        \n",
    "        # Store the classes seen during fit\n",
    "        self.classes_ = unique_labels(y)\n",
    "        self.X_ = X\n",
    "        self.y_ = y\n",
    "\n",
    "        # Return the classifier\n",
    "        return self\n",
    "    \n",
    "    def predict(self, X):\n",
    "        # Check is fit had been called\n",
    "        # Commented because we do accept NaN values... they are handled later on in the code below\n",
    "        \n",
    "        #check_is_fitted(self, ['X_', 'y_'])\n",
    "\n",
    "        # Input validation\n",
    "        # Commented because we do accept NaN values... they are handled later on in the code below.\n",
    "        \n",
    "        #X = check_array(X) \n",
    "        \n",
    "        # Array containing the classes found at the end of the algorithm for every tested instance\n",
    "        # (every line of array passed in parameter)\n",
    "        found_class = np.zeros(X.shape[0])\n",
    "        # Iterating on all the lines of X (all the instances to be classified)\n",
    "        for instance_index in range(X.shape[0]) :\n",
    "            # To store the classes of the features for the n_neighbours neighbours\n",
    "            neigbours_features_classes = np.zeros((self.n_neighbours, X.shape[1]))\n",
    "            # Iterating on X transposed, so on the columns (features) of the train data\n",
    "            for column in range(len(self.X_.T)) :\n",
    "                # Initialize the array of the already found neighbours with -1 values\n",
    "                # (no neighbours at the moment)\n",
    "                already_found_neighbours_rows = [-1]*self.n_neighbours\n",
    "                # We want to find n_neighbours neighbours\n",
    "                for neighbour_index in range(self.n_neighbours) :\n",
    "                    # For every new neighbours we seek, we initialize the closest value at the max possible\n",
    "                    # distance (max possible value for a float64) : every new neighbours found has to be\n",
    "                    # closer than that.\n",
    "                    closest = np.finfo(np.float64).max\n",
    "                    # Iterating on all the train data to look for neighbours\n",
    "                    for row in range(len(self.X_)) :\n",
    "                        # We only check for lines which have not already been picked as neighbours\n",
    "                        if row not in already_found_neighbours_rows :\n",
    "                            # We are only testing the distances if the data exist (not NaN)\n",
    "                            if (np.isnan(X[instance_index][column]) == False) & (np.isnan(self.X_[row][column]) == False) :\n",
    "                                # Computes the distance between the current feature from X and the feature of\n",
    "                                # the train data of the current iteration\n",
    "                                distance = abs(X[instance_index][column] - self.X_[row][column])\n",
    "                                # If we find a closer one... \n",
    "                                if distance < closest :\n",
    "                                    # ...we store its value as the closest known\n",
    "                                    closest = distance\n",
    "                                    # Store the class of this new closest\n",
    "                                    neigbours_features_classes[neighbour_index][column] = self.y_[row]\n",
    "                                    # Mark the row of this new neighbour as already selected\n",
    "                                    # (we don't want to parse it again in next iterations)\n",
    "                                    already_found_neighbours_rows[neighbour_index] = row\n",
    "            # Flatten the class array in order to apply majority voting\n",
    "            neigbours_features_classes = neigbours_features_classes.flatten()\n",
    "            # Cast as a numpy array for majority voting\n",
    "            neigbours_features_classes = np.array(neigbours_features_classes).astype(int)\n",
    "            # Counting the bins of every class\n",
    "            counts = np.bincount(neigbours_features_classes)\n",
    "            # Majority voting to determine the class\n",
    "            found_class[instance_index] = np.argmax(counts)\n",
    "\n",
    "        return found_class\n"
   ]
  },
  {
   "cell_type": "code",
   "execution_count": 3,
   "metadata": {
    "tags": []
   },
   "outputs": [
    {
     "name": "stdout",
     "output_type": "stream",
     "text": [
      "scores cross_val: [0.85714286 0.9047619  0.95238095 0.85714286 1.        ]\n",
      "Accuracy: 0.9142857142857143 +/- 0.05553287518900288*2\n"
     ]
    }
   ],
   "source": [
    "# Test on Iris dataset\n",
    "import pandas as pd\n",
    "from sklearn import datasets\n",
    "from sklearn.model_selection import train_test_split\n",
    "from sklearn.model_selection import cross_val_score\n",
    "from sklearn.model_selection import StratifiedKFold\n",
    "from sklearn.metrics import mean_absolute_error\n",
    "from sklearn.metrics import accuracy_score\n",
    "from sklearn.neighbors import KNeighborsClassifier\n",
    "from sklearn.utils import shuffle\n",
    "from sklearn.impute import SimpleImputer\n",
    "\n",
    "iris = datasets.load_iris()\n",
    "irisdata = iris.data\n",
    "irisclasses = iris.target\n",
    "\n",
    "# Create train and test datasets to evaluate generalization performance of the model\n",
    "# No need to stratify here because the dataset is balanced (50 samples for each of the 3 classes)\n",
    "# random_state fixed for reproductibility\n",
    "X_train, X_test, y_train, y_test = train_test_split(irisdata, irisclasses, test_size=0.3, shuffle=True, random_state=9)\n",
    "\n",
    "knnfp_classifier = kNNFPClassifier(15)\n",
    "knnfp_classifier.fit(X_train, y_train)\n",
    "\n",
    "# Here regular cross_val is acceptable because the dataset is balanced\n",
    "scores = cross_val_score(knnfp_classifier, X_train, y_train, cv=5)\n",
    "print(f\"scores cross_val: {scores}\")\n",
    "print(f\"Accuracy: {scores.mean()} +/- {scores.std()}*2\")"
   ]
  },
  {
   "cell_type": "code",
   "execution_count": 4,
   "metadata": {
    "tags": []
   },
   "outputs": [
    {
     "name": "stdout",
     "output_type": "stream",
     "text": [
      "Test Accuracy: 1.0\n"
     ]
    }
   ],
   "source": [
    "# Final evaluation on the test set\n",
    "# We should keep in mind that a randomly chosen test set will produce high variance in the results\n",
    "# if train/test split + eval is repeated, as compared with cross-validation.\n",
    "y_pred = knnfp_classifier.predict(X_test)\n",
    "print(f\"Test Accuracy: {accuracy_score(y_test, y_pred)}\")"
   ]
  },
  {
   "cell_type": "code",
   "execution_count": 5,
   "metadata": {
    "tags": []
   },
   "outputs": [
    {
     "name": "stdout",
     "output_type": "stream",
     "text": [
      "scores cross_val: [0.95238095 0.9047619  0.95238095 0.9047619  1.        ]\n",
      "Accuracy: 0.9428571428571427 +/- 0.03563483225498991*2\n",
      "Test Accuracy: 1.0\n"
     ]
    }
   ],
   "source": [
    "### Comparison with classic k-NN algorithm\n",
    "\n",
    "knn = KNeighborsClassifier(n_neighbors=5)\n",
    "knn.fit(X_train, y_train)\n",
    "\n",
    "scores = cross_val_score(knn, X_train, y_train, cv=5)\n",
    "print(f\"scores cross_val: {scores}\")\n",
    "print(f\"Accuracy: {scores.mean()} +/- {scores.std()}*2\")\n",
    "\n",
    "y_pred = knn.predict(X_test)\n",
    "print(f\"Test Accuracy: {accuracy_score(y_test, y_pred)}\")"
   ]
  },
  {
   "cell_type": "markdown",
   "metadata": {
    "tags": []
   },
   "source": [
    "### k-NN seems to work slightly better on this dataset if we look at the cross-validation results"
   ]
  },
  {
   "cell_type": "code",
   "execution_count": 14,
   "metadata": {
    "tags": []
   },
   "outputs": [
    {
     "name": "stdout",
     "output_type": "stream",
     "text": [
      "Requirement already satisfied: ucimlrepo in /home/micmac/anaconda3/lib/python3.11/site-packages (0.0.2)\n"
     ]
    }
   ],
   "source": [
    "!pip install ucimlrepo"
   ]
  },
  {
   "cell_type": "code",
   "execution_count": 26,
   "metadata": {
    "tags": []
   },
   "outputs": [
    {
     "data": {
      "image/png": "[encoded data removed]",
      "text/plain": [
       "<Figure size 200x200 with 1 Axes>"
      ]
     },
     "metadata": {},
     "output_type": "display_data"
    }
   ],
   "source": [
    "### Test k-NNFP on the Wine dataset (UCI) : predict the origin (cultivar) of wines basing on their\n",
    "### chemical composition\n",
    "\n",
    "from ucimlrepo import fetch_ucirepo\n",
    "import matplotlib.pyplot as plt\n",
    "\n",
    "# Fetch dataset \n",
    "wine = fetch_ucirepo(id=109) \n",
    "  \n",
    "# Data (as pandas dataframes) \n",
    "X = wine.data.features \n",
    "y = wine.data.targets \n",
    "\n",
    "# Converts the dataframe into a numpy array, and stores the classes in a separate np array\n",
    "X = X.to_numpy()\n",
    "X = np.array(X).astype(float)\n",
    "y = y.to_numpy()\n",
    "y = np.array(y).astype(int)\n",
    "y = y.ravel() #Converts the classes in scikit-learn format (1d list)\n",
    "\n",
    "# Changes the range of classes to be 0 to n (instead of 1 to n)\n",
    "y = y - np.array([1]*y.shape[0])\n",
    "\n",
    "# Display the number of members of each class in a bar graph\n",
    "unique, counts = np.unique(y, return_counts=True)\n",
    "index = unique #range(3,9) # il y a 10 notes possibles\n",
    "plt.figure(figsize=(2,2))\n",
    "plt.bar(index, counts, width=0.3)\n",
    "plt.xlabel('cultivars', fontsize=10)\n",
    "plt.ylabel('wines', fontsize=10)\n",
    "plt.title('number of wines per cultivar')\n",
    "#plt.rcParams[\"figure.figsize\"] = (4, 5)\n",
    "plt.show()"
   ]
  },
  {
   "cell_type": "code",
   "execution_count": 47,
   "metadata": {
    "tags": []
   },
   "outputs": [
    {
     "name": "stdout",
     "output_type": "stream",
     "text": [
      "List of possible accuracies: [0.9655172413793104, 1.0, 0.9285714285714286, 0.9642857142857143, 0.9642857142857143]\n",
      "\n",
      "Maximum Accuracy that can be obtained from this model: 100.0 %\n",
      "\n",
      "Minimum Accuracy: 92.85714285714286 %\n",
      "\n",
      "Overall Accuracy: 96.45320197044336 %\n",
      "\n",
      "Standard Deviation is: 0.022593068562499746\n"
     ]
    }
   ],
   "source": [
    "# Random shuffling to avoid a (possible) pre-existing ordering in the data\n",
    "X, y = shuffle(X, y, random_state=9)\n",
    "\n",
    "# Create train and test datasets to evaluate generalization performance of the model\n",
    "# Doing stratify here because of imbalanced dataset\n",
    "# random_state fixed for reproductibility\n",
    "X_train, X_test, y_train, y_test = train_test_split(X, y, test_size=0.2, stratify=y, random_state=9)\n",
    "\n",
    "knnfp_classifier = kNNFPClassifier(5)\n",
    "\n",
    "# Appart from evaluating on a separate test set, we also do cross-validation for estimation of model perf.\n",
    "# Since the dataset is imbalanced, we use StratifiedKFold cross-validation.\n",
    "# This cross-validation is performed on the X_train set and not on the whole dataset, in order to be\n",
    "# consistent with the final evaluation on test set, which uses X_train for training too.\n",
    "skf = StratifiedKFold(n_splits=5, shuffle=True, random_state=9)\n",
    "accuracies_stratified = []\n",
    "  \n",
    "for train_index, test_index in skf.split(X_train, y_train):\n",
    "    x_train_fold, x_test_fold = X_train[train_index], X_train[test_index]\n",
    "    y_train_fold, y_test_fold = y_train[train_index], y_train[test_index]\n",
    "    knnfp_classifier.fit(x_train_fold, y_train_fold)\n",
    "    y_pred = knnfp_classifier.predict(x_test_fold)\n",
    "    accuracies_stratified.append(accuracy_score(y_test_fold, y_pred))\n",
    "\n",
    "print('List of possible accuracies:', accuracies_stratified)\n",
    "print('\\nMaximum Accuracy that can be obtained from this model:', max(accuracies_stratified)*100, '%')\n",
    "print('\\nMinimum Accuracy:', min(accuracies_stratified)*100, '%')\n",
    "print('\\nOverall Accuracy:', np.mean(accuracies_stratified)*100, '%')\n",
    "print('\\nStandard Deviation is:', np.std(accuracies_stratified))"
   ]
  },
  {
   "cell_type": "code",
   "execution_count": 78,
   "metadata": {
    "tags": []
   },
   "outputs": [
    {
     "data": {
      "image/png": "[encoded data removed]",
      "text/plain": [
       "<Figure size 1400x400 with 3 Axes>"
      ]
     },
     "metadata": {},
     "output_type": "display_data"
    }
   ],
   "source": [
    "# One-vs-Rest multiclass ROC : https://scikit-learn.org/stable/auto_examples/model_selection/plot_roc.html\n",
    "from sklearn.preprocessing import LabelBinarizer\n",
    "from sklearn.metrics import RocCurveDisplay\n",
    "import matplotlib.pyplot as plt\n",
    "\n",
    "#In this section we use a LabelBinarizer to binarize the target by one-hot-encoding in a OvR fashion.\n",
    "#This means that the target of shape (n_samples,) is mapped to a target of shape (n_samples, n_classes).\n",
    "label_binarizer = LabelBinarizer().fit(y_train)\n",
    "y_onehot_test = label_binarizer.transform(y_test)\n",
    "# y_onehot_test.shape  # (n_samples, n_classes). here : (36, 3)\n",
    "\n",
    "\n",
    "# Predicts the classes on the test set, and one-hot-encode them\n",
    "knnfp_classifier.fit(X_train, y_train)\n",
    "y_pred = knnfp_classifier.predict(X_test)\n",
    "y_pred = label_binarizer.transform(y_pred)\n",
    "\n",
    "# prepare a figure with \"number of classes\" suplots on one line\n",
    "fig, (ax1, ax2, ax3) = plt.subplots(1, label_binarizer.classes_.shape[0], figsize=(14, 4))\n",
    "axes = [ax1, ax2, ax3]\n",
    "\n",
    "for class_of_interest in label_binarizer.classes_:\n",
    "    # Preparing ROC OvR : 1 class vs other classes\n",
    "    class_id = np.flatnonzero(label_binarizer.classes_ == class_of_interest)[0]\n",
    "\n",
    "    # Draw ROC curve\n",
    "    RocCurveDisplay.from_predictions(\n",
    "        y_onehot_test[:, class_id],\n",
    "        y_pred[:, class_id],\n",
    "        name=f\"{class_of_interest} vs the rest\",\n",
    "        color=\"darkorange\",\n",
    "        plot_chance_level=True,\n",
    "        ax=axes[class_of_interest]\n",
    "    )\n",
    "    axes[class_of_interest].set_xlabel(\"False Positive Rate\")\n",
    "    axes[class_of_interest].set_ylabel(\"True Positive Rate\")\n",
    "    all_classes = label_binarizer.classes_\n",
    "    # Create the np array containing all classes except the class of interest\n",
    "    rest_classes = np.delete(all_classes, np.where(all_classes == class_of_interest))\n",
    "    axes[class_of_interest].set_title(f\"One-vs-Rest ROC curves:\\n{class_of_interest} vs ({rest_classes})\")\n",
    "\n",
    "plt.show()\n"
   ]
  },
  {
   "cell_type": "code",
   "execution_count": 18,
   "metadata": {
    "tags": []
   },
   "outputs": [
    {
     "name": "stdout",
     "output_type": "stream",
     "text": [
      "Test Accuracy: 0.9444444444444444\n"
     ]
    }
   ],
   "source": [
    "# Final evaluation on the test set\n",
    "# We should keep in mind that a randomly chosen test set will produce high variance in the results\n",
    "# if train/test split + eval is repeated, as compared with cross-validation.\n",
    "knnfp_classifier.fit(X_train, y_train)\n",
    "y_pred = knnfp_classifier.predict(X_test)\n",
    "print(f\"Test Accuracy: {accuracy_score(y_test, y_pred)}\")"
   ]
  },
  {
   "cell_type": "code",
   "execution_count": 84,
   "metadata": {
    "tags": []
   },
   "outputs": [
    {
     "name": "stdout",
     "output_type": "stream",
     "text": [
      "List of possible accuracies: [0.6551724137931034, 0.7241379310344828, 0.5, 0.6428571428571429, 0.75]\n",
      "\n",
      "Maximum Accuracy that can be obtained from this model: 75.0 %\n",
      "\n",
      "Minimum Accuracy: 50.0 %\n",
      "\n",
      "Overall Accuracy: 65.44334975369458 %\n",
      "\n",
      "Standard Deviation is: 0.08715036154673549\n"
     ]
    }
   ],
   "source": [
    "### Comparison with classic k-NN algorithm\n",
    "\n",
    "knn = KNeighborsClassifier(n_neighbors=5)\n",
    "knn.fit(X_train, y_train)\n",
    "\n",
    "skf = StratifiedKFold(n_splits=5, shuffle=True, random_state=9)\n",
    "accuracies_stratified = []\n",
    "  \n",
    "for train_index, test_index in skf.split(X_train, y_train):\n",
    "    x_train_fold, x_test_fold = X_train[train_index], X_train[test_index]\n",
    "    y_train_fold, y_test_fold = y_train[train_index], y_train[test_index]\n",
    "    knn.fit(x_train_fold, y_train_fold)\n",
    "    y_pred = knn.predict(x_test_fold)\n",
    "    accuracies_stratified.append(accuracy_score(y_test_fold, y_pred))\n",
    "\n",
    "print('List of possible accuracies:', accuracies_stratified)\n",
    "print('\\nMaximum Accuracy that can be obtained from this model:', max(accuracies_stratified)*100, '%')\n",
    "print('\\nMinimum Accuracy:', min(accuracies_stratified)*100, '%')\n",
    "print('\\nOverall Accuracy:', np.mean(accuracies_stratified)*100, '%')\n",
    "print('\\nStandard Deviation is:', np.std(accuracies_stratified))"
   ]
  },
  {
   "cell_type": "code",
   "execution_count": 86,
   "metadata": {
    "tags": []
   },
   "outputs": [
    {
     "name": "stdout",
     "output_type": "stream",
     "text": [
      "Test Accuracy: 0.6944444444444444\n"
     ]
    }
   ],
   "source": [
    "# Final evaluation on the test set\n",
    "# We should keep in mind that a randomly chosen test set will produce high variance in the results\n",
    "# if train/test split + eval is repeated, as compared with cross-validation.\n",
    "y_pred = knn.predict(X_test)\n",
    "print(f\"Test Accuracy: {accuracy_score(y_test, y_pred)}\")"
   ]
  },
  {
   "cell_type": "markdown",
   "metadata": {
    "tags": []
   },
   "source": [
    "### On this dataset, k-NNFP works much better than k-NN based on cross-validation and test set eval"
   ]
  },
  {
   "cell_type": "code",
   "execution_count": 19,
   "metadata": {
    "tags": []
   },
   "outputs": [],
   "source": [
    "### Test on the Dermatology dataset (UCI) : skin disease diagnostic (classification task)\n",
    "\n",
    "col_list = [*range(0,34,1)]\n",
    "data_frame = pd.read_csv(\"./datasets/DermatologyDataset/dermatology.data\", sep=\",\", header=None, usecols=col_list, encoding ='latin1')\n",
    "\n",
    "col_list = [34]\n",
    "classes = pd.read_csv(\"./datasets/DermatologyDataset/dermatology.data\", sep=\",\", header=None, usecols=col_list, encoding ='latin1')\n",
    "\n",
    "# Replace missing values with np.nan (which our classifier handles)\n",
    "data_frame.replace('?',np.nan, inplace=True)\n",
    "\n",
    "# Converts the dataframe into a numpy array, and stores the classes in a separate np array\n",
    "dermato_data = data_frame.to_numpy()\n",
    "dermato_data = np.array(dermato_data).astype(float)\n",
    "dermato_classes = classes.to_numpy()\n",
    "dermato_classes = np.array(dermato_classes).astype(int)\n",
    "dermato_classes = dermato_classes.ravel() #met les classes sous la forme demandée par scikit-learn (liste 1d)\n",
    "\n",
    "# Changes the range of classes to be 0 to n (instead of 1 to n)\n",
    "dermato_classes = dermato_classes - np.array([1]*dermato_classes.shape[0])"
   ]
  },
  {
   "cell_type": "code",
   "execution_count": 103,
   "metadata": {
    "tags": []
   },
   "outputs": [
    {
     "name": "stdout",
     "output_type": "stream",
     "text": [
      "List of possible accuracies: [0.7627118644067796, 0.4915254237288136, 0.8448275862068966, 0.5689655172413793, 0.5862068965517241]\n",
      "\n",
      "Maximum Accuracy that can be obtained from this model: 84.48275862068965 %\n",
      "\n",
      "Minimum Accuracy: 49.152542372881356 %\n",
      "\n",
      "Overall Accuracy: 65.08474576271188 %\n",
      "\n",
      "Standard Deviation is: 0.1314598802456178\n"
     ]
    }
   ],
   "source": [
    "# Create train and test datasets to evaluate generalization performance of the model\n",
    "# Doing stratify here because of imbalanced dataset\n",
    "# random_state fixed for reproductibility\n",
    "\n",
    "# Random shuffling to avoid a (possible) pre-existing ordering in the data\n",
    "dermato_data, dermato_classes = shuffle(dermato_data, dermato_classes, random_state=0)\n",
    "\n",
    "X_train, X_test, y_train, y_test = train_test_split(dermato_data, dermato_classes, stratify=dermato_classes, test_size=0.2, random_state=0)\n",
    "\n",
    "# Doing imputation by the mean, because we also need to do this for k-NN algorithm comparison.\n",
    "# So we want the datasets to be equal for comparing both algorithms.\n",
    "imp = SimpleImputer(missing_values=np.nan, strategy='mean')\n",
    "imp.fit(X_train)\n",
    "X_train_imputed = imp.transform(X_train)\n",
    "imp.fit(X_test)\n",
    "X_test_imputed = imp.transform(X_test)\n",
    "\n",
    "# Appart from evaluating on a separate test set, we also do cross-validation for estimation of model perf.\n",
    "# Since the dataset is imbalanced, we use StratifiedKFold cross-validation.\n",
    "# This cross-validation is performed on the X_train set and not on the whole dataset, in order to be\n",
    "# consistent with the final evaluation on test set, which uses X_train for training too.\n",
    "skf = StratifiedKFold(n_splits=5, shuffle=True, random_state=9)\n",
    "accuracies_stratified = []\n",
    "\n",
    "for train_index, test_index in skf.split(X_train_imputed, y_train):\n",
    "    x_train_fold, x_test_fold = X_train_imputed[train_index], X_train_imputed[test_index]\n",
    "    y_train_fold, y_test_fold = y_train[train_index], y_train[test_index]\n",
    "    knnfp_classifier.fit(x_train_fold, y_train_fold)s\n",
    "    y_pred = knnfp_classifier.predict(x_test_fold)\n",
    "    accuracies_stratified.append(accuracy_score(y_test_fold, y_pred))\n",
    "\n",
    "print('List of possible accuracies:', accuracies_stratified)\n",
    "print('\\nMaximum Accuracy that can be obtained from this model:', max(accuracies_stratified)*100, '%')\n",
    "print('\\nMinimum Accuracy:', min(accuracies_stratified)*100, '%')\n",
    "print('\\nOverall Accuracy:', np.mean(accuracies_stratified)*100, '%')\n",
    "print('\\nStandard Deviation is:', np.std(accuracies_stratified))"
   ]
  },
  {
   "cell_type": "code",
   "execution_count": 104,
   "metadata": {
    "tags": []
   },
   "outputs": [
    {
     "name": "stdout",
     "output_type": "stream",
     "text": [
      "test accuracy: 0.5945945945945946\n"
     ]
    }
   ],
   "source": [
    "# Final evaluation on the test set\n",
    "# We should keep in mind that a randomly chosen test set will produce high variance in the results\n",
    "# if train/test split + eval is repeated, as compared with cross-validation.\n",
    "knnfp_classifier = kNNFPClassifier(5)\n",
    "knnfp_classifier.fit(X_train_imputed, y_train)\n",
    "\n",
    "y_pred = knnfp_classifier.predict(X_test_imputed)\n",
    "print(f\"test accuracy: {accuracy_score(y_test, y_pred)}\")"
   ]
  },
  {
   "cell_type": "code",
   "execution_count": 105,
   "metadata": {
    "tags": []
   },
   "outputs": [
    {
     "name": "stdout",
     "output_type": "stream",
     "text": [
      "scores cross_val: [0.88135593 0.81355932 0.89655172 0.82758621 0.86206897]\n",
      "Accuracy: 0.8562244301578025 +/- 0.031408600450133016*2\n"
     ]
    }
   ],
   "source": [
    "### Comparing with classic k-NN algorithm\n",
    "### Imputing missing data by the mean: necessary because knn doesn't accept missing values.\n",
    "\n",
    "imp = SimpleImputer(missing_values=np.nan, strategy='mean')\n",
    "imp.fit(X_train)\n",
    "X_train_imputed = imp.transform(X_train)\n",
    "imp.fit(X_test)\n",
    "X_test_imputed = imp.transform(X_test)\n",
    "\n",
    "knn = KNeighborsClassifier(n_neighbors=5)\n",
    "knn.fit(X_train_imputed, y_train)\n",
    "\n",
    "scores = cross_val_score(knn, X_train_imputed, y_train, cv=5)\n",
    "print(f\"scores cross_val: {scores}\")\n",
    "print(f\"Accuracy: {scores.mean()} +/- {scores.std()}*2\")"
   ]
  },
  {
   "cell_type": "code",
   "execution_count": 106,
   "metadata": {
    "tags": []
   },
   "outputs": [
    {
     "name": "stdout",
     "output_type": "stream",
     "text": [
      "MAE: 0.3783783783783784\n",
      "test accuracy: 0.8783783783783784\n"
     ]
    }
   ],
   "source": [
    "y_pred = knn.predict(X_test_imputed)\n",
    "print(f\"MAE: {mean_absolute_error(y_test,y_pred)}\")\n",
    "print(f\"test accuracy: {accuracy_score(y_test, y_pred)}\")"
   ]
  },
  {
   "cell_type": "markdown",
   "metadata": {
    "tags": []
   },
   "source": [
    "### Bad results for k-NNFP on this dataset..."
   ]
  },
  {
   "cell_type": "code",
   "execution_count": 109,
   "metadata": {
    "tags": []
   },
   "outputs": [],
   "source": [
    "# Test on the Arrythmia dataset (UCI)\n",
    "\n",
    "col_list = [*range(0,279,1)]\n",
    "data_frame = pd.read_csv(\"./datasets/ArrhythmiaDataset/arrhythmia.data\", sep=\",\", header=None, usecols=col_list, encoding ='latin1')\n",
    "\n",
    "col_list = [279]\n",
    "classes = pd.read_csv(\"./datasets/ArrhythmiaDataset/arrhythmia.data\", sep=\",\", header=None, usecols=col_list, encoding ='latin1')\n",
    "\n",
    "# Replace missing values with np.nan (which our classifier handles)\n",
    "data_frame.replace('?',np.nan, inplace=True)\n",
    "\n",
    "# Converts the dataframe into a numpy array, and stores the classes in a separate np array\n",
    "arrythm_data = data_frame.to_numpy()\n",
    "arrythm_data = np.array(arrythm_data).astype(float)\n",
    "arrythm_classes = classes.to_numpy()\n",
    "arrythm_classes = np.array(arrythm_classes).astype(int)\n",
    "arrythm_classes = arrythm_classes.ravel() #met les classes sous la forme demandée par scikit-learn (liste 1d)\n",
    "\n",
    "# Changes the range of classes to be 0 to n (instead of 1 to n)\n",
    "arrythm_classes = arrythm_classes - np.array([1]*arrythm_classes.shape[0])"
   ]
  },
  {
   "cell_type": "code",
   "execution_count": 110,
   "metadata": {
    "tags": []
   },
   "outputs": [
    {
     "name": "stderr",
     "output_type": "stream",
     "text": [
      "/home/micmac/anaconda3/lib/python3.11/site-packages/sklearn/model_selection/_split.py:725: UserWarning: The least populated class in y has only 1 members, which is less than n_splits=5.\n",
      "  warnings.warn(\n"
     ]
    },
    {
     "name": "stdout",
     "output_type": "stream",
     "text": [
      "List of possible accuracies: [0.546875, 0.5396825396825397, 0.5396825396825397, 0.5396825396825397, 0.5396825396825397]\n",
      "\n",
      "Maximum Accuracy that can be obtained from this model: 54.6875 %\n",
      "\n",
      "Minimum Accuracy: 53.96825396825397 %\n",
      "\n",
      "Overall Accuracy: 54.11210317460316 %\n",
      "\n",
      "Standard Deviation is: 0.0028769841269841393\n"
     ]
    }
   ],
   "source": [
    "# Create train and test datasets to evaluate generalization performance of the model\n",
    "# random_state fixed for reproductibility\n",
    "\n",
    "# Random shuffling to avoid a (possible) pre-existing ordering in the data\n",
    "arrythm_data, arrythm_classes = shuffle(arrythm_data, arrythm_classes, random_state=0)\n",
    "\n",
    "X_train, X_test, y_train, y_test = train_test_split(arrythm_data, arrythm_classes, stratify=arrythm_classes, test_size=0.3)\n",
    "\n",
    "# Doing imputation by the mean, because we also need to do this for k-NN algorithm comparison.\n",
    "# So we want the datasets to be equal for comparing both algorithms.\n",
    "imp = SimpleImputer(missing_values=np.nan, strategy='mean')\n",
    "imp.fit(X_train)\n",
    "X_train_imputed = imp.transform(X_train)\n",
    "imp.fit(X_test)\n",
    "X_test_imputed = imp.transform(X_test)\n",
    "\n",
    "knnfp_classifier = kNNFPClassifier(5)\n",
    "\n",
    "# Appart from evaluating on a separate test set, we also do cross-validation for estimation of model perf.\n",
    "# Since the dataset is imbalanced, we use StratifiedKFold cross-validation.\n",
    "# This cross-validation is performed on the X_train set and not on the whole dataset, in order to be\n",
    "# consistent with the final evaluation on test set, which uses X_train for training too.\n",
    "skf = StratifiedKFold(n_splits=5, shuffle=True, random_state=9)\n",
    "accuracies_stratified = []\n",
    "\n",
    "for train_index, test_index in skf.split(X_train_imputed, y_train):\n",
    "    x_train_fold, x_test_fold = X_train_imputed[train_index], X_train[test_index]\n",
    "    y_train_fold, y_test_fold = y_train[train_index], y_train[test_index]\n",
    "    knnfp_classifier.fit(x_train_fold, y_train_fold)\n",
    "    y_pred = knnfp_classifier.predict(x_test_fold)\n",
    "    accuracies_stratified.append(accuracy_score(y_test_fold, y_pred))\n",
    "\n",
    "print('List of possible accuracies:', accuracies_stratified)\n",
    "print('\\nMaximum Accuracy that can be obtained from this model:', max(accuracies_stratified)*100, '%')\n",
    "print('\\nMinimum Accuracy:', min(accuracies_stratified)*100, '%')\n",
    "print('\\nOverall Accuracy:', np.mean(accuracies_stratified)*100, '%')\n",
    "print('\\nStandard Deviation is:', np.std(accuracies_stratified))"
   ]
  },
  {
   "cell_type": "code",
   "execution_count": 111,
   "metadata": {
    "tags": []
   },
   "outputs": [
    {
     "name": "stdout",
     "output_type": "stream",
     "text": [
      "Test Accuracy: 0.5441176470588235\n"
     ]
    }
   ],
   "source": [
    "# Final evaluation on the test set\n",
    "# We should keep in mind that a randomly chosen test set will produce high variance in the results\n",
    "# if train/test split + eval is repeated, as compared with cross-validation.\n",
    "knnfp_classifier.fit(X_train, y_train)\n",
    "y_pred = knnfp_classifier.predict(X_test_imputed)\n",
    "print(f\"Test Accuracy: {accuracy_score(y_test, y_pred)}\")"
   ]
  },
  {
   "cell_type": "markdown",
   "metadata": {
    "tags": []
   },
   "source": [
    "### Bad score on this dataset, but there are under-populated classes (1, 2, or 3 members)\n",
    "### and a majoritary class (more than 200 members)"
   ]
  },
  {
   "cell_type": "code",
   "execution_count": 34,
   "metadata": {
    "tags": []
   },
   "outputs": [
    {
     "name": "stderr",
     "output_type": "stream",
     "text": [
      "/tmp/ipykernel_6253/4179403743.py:2: DeprecationWarning: Importing display from IPython.core.display is deprecated since IPython 7.14, please import from IPython display\n",
      "  from IPython.core.display import display, HTML\n"
     ]
    },
    {
     "data": {
      "text/html": [
       "<style>.jp-Cell { width: 80% !important; }</style>"
      ],
      "text/plain": [
       "<IPython.core.display.HTML object>"
      ]
     },
     "metadata": {},
     "output_type": "display_data"
    }
   ],
   "source": [
    "# Changes the width of Jupyter-Lab notebook\n",
    "from IPython.core.display import display, HTML\n",
    "display(HTML(\"<style>.jp-Cell { width: 80% !important; }</style>\"))"
   ]
  },
  {
   "cell_type": "code",
   "execution_count": null,
   "metadata": {},
   "outputs": [],
   "source": []
  }
 ],
 "metadata": {
  "kernelspec": {
   "display_name": "Python 3 (ipykernel)",
   "language": "python",
   "name": "python3"
  },
  "language_info": {
   "codemirror_mode": {
    "name": "ipython",
    "version": 3
   },
   "file_extension": ".py",
   "mimetype": "text/x-python",
   "name": "python",
   "nbconvert_exporter": "python",
   "pygments_lexer": "ipython3",
   "version": "3.11.4"
  }
 },
 "nbformat": 4,
 "nbformat_minor": 4
}
